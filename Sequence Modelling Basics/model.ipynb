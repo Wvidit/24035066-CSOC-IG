{
 "cells": [
  {
   "metadata": {},
   "cell_type": "markdown",
   "source": "**EDA**",
   "id": "63c1769d70d09020"
  },
  {
   "metadata": {},
   "cell_type": "code",
   "outputs": [],
   "execution_count": null,
   "source": "",
   "id": "d9a8dbf8c3eff307"
  },
  {
   "metadata": {},
   "cell_type": "markdown",
   "source": "**Tokenizer**",
   "id": "bcd80c32e8c6fbca"
  },
  {
   "metadata": {},
   "cell_type": "code",
   "outputs": [],
   "execution_count": null,
   "source": [
    "import regex as re\n",
    "\n",
    "GPT4_SPLIT_PATTERN = r\"\"\"'(?i:[sdmt]|ll|ve|re)|[^\\r\\n\\p{L}\\p{N}]?+\\p{L}+|\\p{N}{1,3}| ?[^\\s\\p{L}\\p{N}]++[\\r\\n]*|\\s*[\\r\\n]|\\s+(?!\\S)|\\s+\"\"\"\n",
    "\n",
    "class Tokenizer:\n",
    "    def __init__(self):\n",
    "\n",
    "        self.lookup = {}\n",
    "\n",
    "\n",
    "    def train(self, train, vocab_size, verbose=False):\n",
    "        #Here encoding dictonary is being made\n",
    "\n",
    "        token = re.compile(GPT4_SPLIT_PATTERN)\n",
    "        token_list = re.findall(token, train)\n",
    "\n",
    "        token_list.encode(\"UTF-8\")"
   ],
   "id": "bab9407288a0644d"
  }
 ],
 "metadata": {
  "kernelspec": {
   "display_name": "Python 3",
   "language": "python",
   "name": "python3"
  },
  "language_info": {
   "codemirror_mode": {
    "name": "ipython",
    "version": 2
   },
   "file_extension": ".py",
   "mimetype": "text/x-python",
   "name": "python",
   "nbconvert_exporter": "python",
   "pygments_lexer": "ipython2",
   "version": "2.7.6"
  }
 },
 "nbformat": 4,
 "nbformat_minor": 5
}
